{
  "nbformat": 4,
  "nbformat_minor": 0,
  "metadata": {
    "colab": {
      "provenance": [],
      "include_colab_link": true
    },
    "kernelspec": {
      "name": "python3",
      "display_name": "Python 3"
    },
    "language_info": {
      "name": "python"
    }
  },
  "cells": [
    {
      "cell_type": "markdown",
      "metadata": {
        "id": "view-in-github",
        "colab_type": "text"
      },
      "source": [
        "<a href=\"https://colab.research.google.com/github/nestorm94/HPC_3/blob/main/intro_a_la_neurona_artificial.ipynb\" target=\"_parent\"><img src=\"https://colab.research.google.com/assets/colab-badge.svg\" alt=\"Open In Colab\"/></a>"
      ]
    },
    {
      "cell_type": "markdown",
      "source": [
        "# Taller de introducción a la neurona artificial\n",
        "\n",
        " La idea de este taller es que repase conceptos vistos sobre la neurona artificial. Explorando la diferenciación automática (1), regresión logística (2) y regresión lineal usando la API de keras (3)."
      ],
      "metadata": {
        "id": "0yJmQ9UvIkpA"
      }
    },
    {
      "cell_type": "code",
      "source": [
        "import numpy as np"
      ],
      "metadata": {
        "id": "PWGhaECXIqIm"
      },
      "execution_count": null,
      "outputs": []
    },
    {
      "cell_type": "markdown",
      "source": [
        "## 1.) Demuestra la convergencia de la diferenciación automática\n",
        "recuerde las funcions:\n",
        "\n",
        "$\\hat{y_{i}} = \\frac{1}{1 + exp(-X\\beta)}$\n",
        "\n",
        "$loss = -\\frac{1}{n}\\sum_{i=0}^{n} y_{i}*ln(\\hat{y_{i}}) + (1-y_{i})*ln(1-\\hat{y_{i}})$\n",
        "\n",
        "demuestre numericamente que:\n",
        "\n",
        "$\\frac{dloss}{d\\beta} = \\frac{loss(\\beta + \\delta) - loss(\\beta)}{\\delta} $"
      ],
      "metadata": {
        "id": "lgWmCVhzIms_"
      }
    },
    {
      "cell_type": "code",
      "execution_count": null,
      "metadata": {
        "id": "BluPQGizHWsx"
      },
      "outputs": [],
      "source": [
        "def get_grad (X,Y,beta):\n",
        "  ....\n",
        "  return(grad)\n",
        "\n",
        "def get_numeric_grad(X,Y,beta):\n",
        "  ....\n",
        "  return(numeric_grad)"
      ]
    },
    {
      "cell_type": "markdown",
      "source": [
        "## 2.) Cargue el conjunto de datos iris desde sklearn y observe la separabilidad de las clases"
      ],
      "metadata": {
        "id": "r8DMd0T8MTk9"
      }
    },
    {
      "cell_type": "code",
      "source": [],
      "metadata": {
        "id": "_IHyl1ZtL-JH"
      },
      "execution_count": null,
      "outputs": []
    },
    {
      "cell_type": "markdown",
      "source": [
        "## 3.) Plantee  una regresión logística usando la API de Keras.\n",
        "\n",
        "Recuerde que el modelo logístico es equivalente a una neurona artificial. Adicionalmente, utilícelo para entrenar sobre el conjunto de datos de iris."
      ],
      "metadata": {
        "id": "6_tYBZenMXTH"
      }
    },
    {
      "cell_type": "code",
      "source": [
        "def model(kernel_init='zeros', clases, lr):\n",
        "  ....\n",
        "  return model\n"
      ],
      "metadata": {
        "id": "ZBrU6LDoMzAe"
      },
      "execution_count": null,
      "outputs": []
    }
  ]
}